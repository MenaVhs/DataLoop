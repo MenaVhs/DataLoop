{
 "cells": [
  {
   "cell_type": "code",
   "execution_count": 1,
   "metadata": {},
   "outputs": [
    {
     "data": {
      "text/html": [
       "<div>\n",
       "<style scoped>\n",
       "    .dataframe tbody tr th:only-of-type {\n",
       "        vertical-align: middle;\n",
       "    }\n",
       "\n",
       "    .dataframe tbody tr th {\n",
       "        vertical-align: top;\n",
       "    }\n",
       "\n",
       "    .dataframe thead th {\n",
       "        text-align: right;\n",
       "    }\n",
       "</style>\n",
       "<table border=\"1\" class=\"dataframe\">\n",
       "  <thead>\n",
       "    <tr style=\"text-align: right;\">\n",
       "      <th></th>\n",
       "      <th>ID_Credito</th>\n",
       "      <th>Modelo</th>\n",
       "      <th>Monto_prestamo</th>\n",
       "      <th>EntidadFederativa</th>\n",
       "      <th>ActividadEconomica</th>\n",
       "      <th>FLG_Empleo</th>\n",
       "      <th>IngresoMensual</th>\n",
       "      <th>Propiedad_Casa</th>\n",
       "      <th>Default_Crediticio</th>\n",
       "    </tr>\n",
       "  </thead>\n",
       "  <tbody>\n",
       "    <tr>\n",
       "      <th>0</th>\n",
       "      <td>2305109</td>\n",
       "      <td>MARCH</td>\n",
       "      <td>159003.0</td>\n",
       "      <td>JALISCO</td>\n",
       "      <td>TAXISTA</td>\n",
       "      <td>0</td>\n",
       "      <td>0.0</td>\n",
       "      <td>NaN</td>\n",
       "      <td>1</td>\n",
       "    </tr>\n",
       "    <tr>\n",
       "      <th>1</th>\n",
       "      <td>2306039</td>\n",
       "      <td>SENTRA</td>\n",
       "      <td>275400.0</td>\n",
       "      <td>JALISCO</td>\n",
       "      <td>TAXISTA</td>\n",
       "      <td>0</td>\n",
       "      <td>0.0</td>\n",
       "      <td>NaN</td>\n",
       "      <td>1</td>\n",
       "    </tr>\n",
       "    <tr>\n",
       "      <th>2</th>\n",
       "      <td>2310004</td>\n",
       "      <td>MARCH</td>\n",
       "      <td>196001.0</td>\n",
       "      <td>JALISCO</td>\n",
       "      <td>TAXISTA</td>\n",
       "      <td>0</td>\n",
       "      <td>0.0</td>\n",
       "      <td>NaN</td>\n",
       "      <td>1</td>\n",
       "    </tr>\n",
       "    <tr>\n",
       "      <th>3</th>\n",
       "      <td>2323061</td>\n",
       "      <td>MARCH</td>\n",
       "      <td>162802.0</td>\n",
       "      <td>SINALOA</td>\n",
       "      <td>TAXISTA</td>\n",
       "      <td>0</td>\n",
       "      <td>0.0</td>\n",
       "      <td>NaN</td>\n",
       "      <td>1</td>\n",
       "    </tr>\n",
       "    <tr>\n",
       "      <th>4</th>\n",
       "      <td>2340054</td>\n",
       "      <td>NP300</td>\n",
       "      <td>278300.0</td>\n",
       "      <td>SINALOA</td>\n",
       "      <td>TAXISTA</td>\n",
       "      <td>0</td>\n",
       "      <td>0.0</td>\n",
       "      <td>NaN</td>\n",
       "      <td>1</td>\n",
       "    </tr>\n",
       "  </tbody>\n",
       "</table>\n",
       "</div>"
      ],
      "text/plain": [
       "   ID_Credito  Modelo  Monto_prestamo EntidadFederativa ActividadEconomica  \\\n",
       "0     2305109   MARCH        159003.0           JALISCO            TAXISTA   \n",
       "1     2306039  SENTRA        275400.0           JALISCO            TAXISTA   \n",
       "2     2310004   MARCH        196001.0           JALISCO            TAXISTA   \n",
       "3     2323061   MARCH        162802.0           SINALOA            TAXISTA   \n",
       "4     2340054   NP300        278300.0           SINALOA            TAXISTA   \n",
       "\n",
       "   FLG_Empleo  IngresoMensual Propiedad_Casa  Default_Crediticio  \n",
       "0           0             0.0            NaN                   1  \n",
       "1           0             0.0            NaN                   1  \n",
       "2           0             0.0            NaN                   1  \n",
       "3           0             0.0            NaN                   1  \n",
       "4           0             0.0            NaN                   1  "
      ]
     },
     "execution_count": 1,
     "metadata": {},
     "output_type": "execute_result"
    }
   ],
   "source": [
    "import numpy as np\n",
    "import matplotlib as plt\n",
    "import pandas as pd\n",
    "\n",
    "\n",
    "df = pd.read_csv(\"Variables_entrevista.csv\")\n",
    "df.head()"
   ]
  },
  {
   "cell_type": "code",
   "execution_count": 2,
   "metadata": {},
   "outputs": [
    {
     "data": {
      "text/plain": [
       "(13960, 9)"
      ]
     },
     "execution_count": 2,
     "metadata": {},
     "output_type": "execute_result"
    }
   ],
   "source": [
    "df.shape"
   ]
  },
  {
   "cell_type": "code",
   "execution_count": 3,
   "metadata": {},
   "outputs": [],
   "source": [
    "X = df.iloc[:, [2, 5, 6]] # predecir (Monto_prestamo, FLG_Empleo, IngresoMensual)\n",
    "Y = df.iloc[:,-1]"
   ]
  },
  {
   "cell_type": "code",
   "execution_count": 4,
   "metadata": {},
   "outputs": [
    {
     "data": {
      "text/html": [
       "<div>\n",
       "<style scoped>\n",
       "    .dataframe tbody tr th:only-of-type {\n",
       "        vertical-align: middle;\n",
       "    }\n",
       "\n",
       "    .dataframe tbody tr th {\n",
       "        vertical-align: top;\n",
       "    }\n",
       "\n",
       "    .dataframe thead th {\n",
       "        text-align: right;\n",
       "    }\n",
       "</style>\n",
       "<table border=\"1\" class=\"dataframe\">\n",
       "  <thead>\n",
       "    <tr style=\"text-align: right;\">\n",
       "      <th></th>\n",
       "      <th>Monto_prestamo</th>\n",
       "      <th>FLG_Empleo</th>\n",
       "      <th>IngresoMensual</th>\n",
       "    </tr>\n",
       "  </thead>\n",
       "  <tbody>\n",
       "    <tr>\n",
       "      <th>0</th>\n",
       "      <td>159003.0</td>\n",
       "      <td>0</td>\n",
       "      <td>0.0</td>\n",
       "    </tr>\n",
       "    <tr>\n",
       "      <th>1</th>\n",
       "      <td>275400.0</td>\n",
       "      <td>0</td>\n",
       "      <td>0.0</td>\n",
       "    </tr>\n",
       "    <tr>\n",
       "      <th>2</th>\n",
       "      <td>196001.0</td>\n",
       "      <td>0</td>\n",
       "      <td>0.0</td>\n",
       "    </tr>\n",
       "    <tr>\n",
       "      <th>3</th>\n",
       "      <td>162802.0</td>\n",
       "      <td>0</td>\n",
       "      <td>0.0</td>\n",
       "    </tr>\n",
       "    <tr>\n",
       "      <th>4</th>\n",
       "      <td>278300.0</td>\n",
       "      <td>0</td>\n",
       "      <td>0.0</td>\n",
       "    </tr>\n",
       "  </tbody>\n",
       "</table>\n",
       "</div>"
      ],
      "text/plain": [
       "   Monto_prestamo  FLG_Empleo  IngresoMensual\n",
       "0        159003.0           0             0.0\n",
       "1        275400.0           0             0.0\n",
       "2        196001.0           0             0.0\n",
       "3        162802.0           0             0.0\n",
       "4        278300.0           0             0.0"
      ]
     },
     "execution_count": 4,
     "metadata": {},
     "output_type": "execute_result"
    }
   ],
   "source": [
    "X.head()\n"
   ]
  },
  {
   "cell_type": "markdown",
   "metadata": {},
   "source": [
    "### Training set & test set"
   ]
  },
  {
   "cell_type": "code",
   "execution_count": 5,
   "metadata": {},
   "outputs": [],
   "source": [
    "from sklearn.model_selection import train_test_split\n",
    "X_Train, X_Test, Y_Train, Y_Test = train_test_split(X, Y, test_size = 0.25, random_state = 0) # 25% de test"
   ]
  },
  {
   "cell_type": "code",
   "execution_count": 6,
   "metadata": {},
   "outputs": [
    {
     "name": "stdout",
     "output_type": "stream",
     "text": [
      "Training data shape: (10470, 3)\n",
      "Test data shape: (3490, 3)\n"
     ]
    }
   ],
   "source": [
    "print(f\"Training data shape: {X_Train.shape}\")\n",
    "print(f\"Test data shape: {X_Test.shape}\")"
   ]
  },
  {
   "cell_type": "code",
   "execution_count": 7,
   "metadata": {},
   "outputs": [],
   "source": [
    "from sklearn.preprocessing import StandardScaler\n",
    "sc_X = StandardScaler()\n",
    "X_Train = sc_X.fit_transform(X_Train)\n",
    "X_Test = sc_X.transform(X_Test)"
   ]
  },
  {
   "cell_type": "code",
   "execution_count": 8,
   "metadata": {},
   "outputs": [
    {
     "data": {
      "text/plain": [
       "array([0, 0, 0, ..., 0, 0, 0], dtype=int64)"
      ]
     },
     "execution_count": 8,
     "metadata": {},
     "output_type": "execute_result"
    }
   ],
   "source": [
    "from sklearn.svm import SVC\n",
    "classfier = SVC(kernel='linear', random_state=0)\n",
    "classfier.fit(X_Train, Y_Train)\n",
    "\n",
    "# Predicción\n",
    "Y_pred = classfier.predict(X_Test)\n",
    "Y_pred"
   ]
  },
  {
   "cell_type": "code",
   "execution_count": 9,
   "metadata": {},
   "outputs": [
    {
     "name": "stdout",
     "output_type": "stream",
     "text": [
      "Precisión con kernel lineal\n",
      "0.8638968481375359\n"
     ]
    }
   ],
   "source": [
    "from sklearn import metrics\n",
    "print(\"Precisión con kernel lineal\")\n",
    "print(metrics.accuracy_score(Y_Test, Y_pred))\n",
    "# 0.8638968481375359 -> 86.38% de presición"
   ]
  },
  {
   "cell_type": "code",
   "execution_count": 10,
   "metadata": {},
   "outputs": [
    {
     "name": "stdout",
     "output_type": "stream",
     "text": [
      "Precisión con kernel RBF\n",
      "0.8638968481375359\n"
     ]
    }
   ],
   "source": [
    "from sklearn.svm import SVC\n",
    "classfier = SVC(kernel='rbf', gamma=5, C=10, random_state=0)\n",
    "classfier.fit(X_Train, Y_Train)\n",
    "\n",
    "Y_pred = classfier.predict(X_Test)\n",
    "\n",
    "print(\"Precisión con kernel RBF\")\n",
    "print(metrics.accuracy_score(Y_Test, Y_pred))\n",
    "\n",
    "# 0.8636103151862464 -> 86.36% de presición"
   ]
  },
  {
   "cell_type": "code",
   "execution_count": 11,
   "metadata": {},
   "outputs": [
    {
     "name": "stdout",
     "output_type": "stream",
     "text": [
      "Precisión con kernel Poly y grado\n",
      "0.8638968481375359\n"
     ]
    }
   ],
   "source": [
    "svc = SVC(kernel='poly', degree=4)\n",
    "svc.fit(X_Train, Y_Train)\n",
    "\n",
    "Y_pred =svc.predict(X_Test)\n",
    "\n",
    "print(\"Precisión con kernel Poly y grado\")\n",
    "print(metrics.accuracy_score(Y_Test, Y_pred))\n",
    "\n",
    "# 0.8638968481375359 -> 86.38% de presición"
   ]
  },
  {
   "cell_type": "code",
   "execution_count": 12,
   "metadata": {},
   "outputs": [
    {
     "name": "stdout",
     "output_type": "stream",
     "text": [
      "[-0.75439229  2.92446218 -0.13502605 ... -0.69066681 -0.75439229\n",
      "  2.88982124]\n",
      "[0. 0. 0. ... 0. 0. 0.]\n"
     ]
    }
   ],
   "source": [
    "print(X_Train[:,0])\n",
    "print( X_Train[:, 1])"
   ]
  },
  {
   "cell_type": "code",
   "execution_count": 13,
   "metadata": {},
   "outputs": [
    {
     "data": {
      "image/png": "[encoded data removed]",
      "text/plain": [
       "<Figure size 640x480 with 1 Axes>"
      ]
     },
     "metadata": {},
     "output_type": "display_data"
    }
   ],
   "source": [
    "import matplotlib.pyplot as plt\n",
    "plt.scatter(X_Train[:,0], X_Train[:, 1], c=Y_Train)\n",
    "plt.xlabel('monto')\n",
    "plt.ylabel('y')\n",
    "plt.title('Training Data')\n",
    "plt.show()"
   ]
  },
  {
   "cell_type": "code",
   "execution_count": 14,
   "metadata": {},
   "outputs": [
    {
     "data": {
      "image/png": "[encoded data removed]",
      "text/plain": [
       "<Figure size 640x480 with 1 Axes>"
      ]
     },
     "metadata": {},
     "output_type": "display_data"
    }
   ],
   "source": [
    "import matplotlib.pyplot as plt\n",
    "plt.scatter(X_Test[:,0], X_Test[:, 1], c=Y_Test)\n",
    "plt.xlabel('Monto Prestamo')\n",
    "plt.ylabel('Ingreso Mensua')\n",
    "plt.title('Test Data')\n",
    "plt.show()"
   ]
  }
 ],
 "metadata": {
  "kernelspec": {
   "display_name": "Python 3",
   "language": "python",
   "name": "python3"
  },
  "language_info": {
   "codemirror_mode": {
    "name": "ipython",
    "version": 3
   },
   "file_extension": ".py",
   "mimetype": "text/x-python",
   "name": "python",
   "nbconvert_exporter": "python",
   "pygments_lexer": "ipython3",
   "version": "3.11.2"
  },
  "orig_nbformat": 4
 },
 "nbformat": 4,
 "nbformat_minor": 2
}
